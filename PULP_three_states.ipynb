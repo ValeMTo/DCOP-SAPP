{
 "cells": [
  {
   "cell_type": "code",
   "execution_count": 1,
   "metadata": {},
   "outputs": [],
   "source": [
    "from pulp import LpProblem, LpMinimize, LpVariable, lpSum"
   ]
  },
  {
   "cell_type": "code",
   "execution_count": 27,
   "metadata": {},
   "outputs": [
    {
     "name": "stdout",
     "output_type": "stream",
     "text": [
      "Welcome to the CBC MILP Solver \n",
      "Version: 2.10.3 \n",
      "Build Date: Dec 15 2019 \n",
      "\n",
      "command line - /Users/user/miniconda3/envs/DCOP/lib/python3.10/site-packages/pulp/solverdir/cbc/osx/64/cbc /var/folders/_z/9k_3hrq16r35m7ch79yggf0m0000gn/T/2a9f89eb37514502b16f42a8328bfc0c-pulp.mps -timeMode elapsed -branch -printingOptions all -solution /var/folders/_z/9k_3hrq16r35m7ch79yggf0m0000gn/T/2a9f89eb37514502b16f42a8328bfc0c-pulp.sol (default strategy 1)\n",
      "At line 2 NAME          MODEL\n",
      "At line 3 ROWS\n",
      "At line 15 COLUMNS\n",
      "At line 57 RHS\n",
      "At line 68 BOUNDS\n",
      "At line 76 ENDATA\n",
      "Problem MODEL has 10 rows, 16 columns and 29 elements\n",
      "Coin0008I MODEL read with 0 errors\n",
      "Option for timeMode changed from cpu to elapsed\n",
      "Presolve 4 (-6) rows, 10 (-6) columns and 17 (-12) elements\n",
      "0  Obj 19997.999 Primal inf 15000.1 (3)\n",
      "5  Obj 193900\n",
      "Optimal - objective value 193900\n",
      "After Postsolve, objective 193900, infeasibilities - dual 0 (0), primal 0 (0)\n",
      "Optimal objective 193900 - 5 iterations time 0.002, Presolve 0.00\n",
      "Option for printingOptions changed from normal to all\n",
      "Total time (CPU seconds):       0.00   (Wallclock seconds):       0.00\n",
      "\n"
     ]
    }
   ],
   "source": [
    "# Parameters\n",
    "states = ['A', 'B', 'C']\n",
    "demand = {'A': 5000, 'B': 7000, 'C': 4000}  # MWh\n",
    "solar_max_capacity = {'A': 5, 'B': 2, 'C': 8}  # MW\n",
    "gas_existing_capacity = {'A': 1.5, 'B': 2, 'C': 1}  # MW\n",
    "solar_investment_cost = 300  # $/MW\n",
    "solar_operating_cost = 10  # $/MWh\n",
    "gas_operating_cost = 20  # $/MWh\n",
    "gas_investment_cost = 150  # $/MW\n",
    "emissions_factor_gas = 0.5  # tons CO2/MWh\n",
    "emissions_cap = 2000  # tons CO2\n",
    "hours_per_year = 8760  # hours in a year\n",
    "transmission_cost = 0  # $/MWh\n",
    "transmission_capacity = {\n",
    "    ('A', 'B'): 2000,  # MWh max capacity between A and B\n",
    "    ('B', 'C'): 2000   # MWh max capacity between B and C\n",
    "}\n",
    "\n",
    "# Problem definition\n",
    "model = LpProblem(\"SAPP_Energy_Planning\", LpMinimize)\n",
    "\n",
    "# Transmission decision variables\n",
    "transmission = {\n",
    "    ('A', 'B'): LpVariable(\"transmission_AB\", lowBound=0, upBound=transmission_capacity[('A', 'B')]),\n",
    "    ('B', 'A'): LpVariable(\"transmission_BA\", lowBound=0, upBound=transmission_capacity[('A', 'B')]),\n",
    "    ('B', 'C'): LpVariable(\"transmission_BC\", lowBound=0, upBound=transmission_capacity[('B', 'C')]),\n",
    "    ('C', 'B'): LpVariable(\"transmission_CB\", lowBound=0, upBound=transmission_capacity[('B', 'C')])\n",
    "}\n",
    "\n",
    "# Decision variables\n",
    "solar_generation = {state: LpVariable(f\"solar_generation_{state}\", lowBound=0) for state in states}  # MWh\n",
    "gas_generation = {state: LpVariable(f\"gas_generation_{state}\", lowBound=0) for state in states}  # MWh\n",
    "solar_capacity = {state: LpVariable(f\"solar_capacity_{state}\", lowBound=0, upBound=solar_max_capacity[state]) for state in states}  # MW\n",
    "new_gas_capacity = {state: LpVariable(f\"new_gas_capacity_{state}\", lowBound=0) for state in states}  # MW\n",
    "\n",
    "# Objective function: Minimize total cost\n",
    "model += lpSum([\n",
    "    solar_investment_cost * solar_capacity[state] +\n",
    "    solar_operating_cost * solar_generation[state] +\n",
    "    gas_operating_cost * gas_generation[state] +\n",
    "    gas_investment_cost * new_gas_capacity[state]\n",
    "    for state in states]) + lpSum([\n",
    "    transmission_cost * transmission[line] for line in transmission])\n",
    "\n",
    "# Constraints\n",
    "# Energy demand for each state - The balance constraint for each state to include transmission\n",
    "model += solar_generation['A'] + gas_generation['A'] + transmission[('B', 'A')] - transmission[('A', 'B')] >= demand['A'], \"Balance_A\"\n",
    "model += solar_generation['B'] + gas_generation['B'] + transmission[('A', 'B')] + transmission[('C', 'B')] - (transmission[('B', 'A')] + transmission[('B', 'C')]) >= demand['B'], \"Balance_B\"\n",
    "model += solar_generation['C'] + gas_generation['C'] + transmission[('B', 'C')] - transmission[('C', 'B')] >= demand['C'], \"Balance_C\"\n",
    "\n",
    "\n",
    "# Solar generation limit by installed capacity\n",
    "for state in states:\n",
    "    model += solar_generation[state] <= 1000 * solar_capacity[state], f\"SolarCapacityLimit_{state}\"\n",
    "\n",
    "# Gas generation limit by total capacity (existing + new)\n",
    "for state in states:\n",
    "    model += gas_generation[state] <= hours_per_year * (gas_existing_capacity[state] + new_gas_capacity[state]), f\"GasTotalCapacity_{state}\"\n",
    "\n",
    "# Combined emissions cap\n",
    "model += lpSum([emissions_factor_gas * gas_generation[state] for state in states]) <= emissions_cap, \"EmissionsCap\"\n",
    "\n",
    "# Solve the problem\n",
    "model.solve()\n",
    "\n",
    "# Extract updated results including transmission\n",
    "results_with_transmission = {\n",
    "    \"Demand (MWh)\": {state: demand[state] for state in states},\n",
    "    \"Solar Generation (MWh)\": {state: solar_generation[state].varValue for state in states},\n",
    "    \"Gas Generation (MWh)\": {state: gas_generation[state].varValue for state in states},\n",
    "    \"Solar Capacity Installed (MW)\": {state: solar_capacity[state].varValue for state in states},\n",
    "    \"New Gas Capacity Installed (MW)\": {state: new_gas_capacity[state].varValue for state in states},\n",
    "    \"Transmission (MWh)\": {line: transmission[line].varValue for line in transmission},\n",
    "    \"Total Cost ($)\": model.objective.value()\n",
    "}\n"
   ]
  },
  {
   "cell_type": "code",
   "execution_count": 28,
   "metadata": {},
   "outputs": [
    {
     "name": "stdout",
     "output_type": "stream",
     "text": [
      "Demand (MWh): {'A': 5000, 'B': 7000, 'C': 4000}\n",
      "Solar Generation (MWh): {'A': 5000.0, 'B': 2000.0, 'C': 6000.0}\n",
      "Gas Generation (MWh): {'A': 2000.0, 'B': 1000.0, 'C': 0.0}\n",
      "Solar Capacity Installed (MW): {'A': 5.0, 'B': 2.0, 'C': 6.0}\n",
      "New Gas Capacity Installed (MW): {'A': 0.0, 'B': 0.0, 'C': 0.0}\n",
      "Transmission (MWh): {('A', 'B'): 2000.0, ('B', 'A'): 0.0, ('B', 'C'): 0.0, ('C', 'B'): 2000.0}\n",
      "Total Cost ($): 193900.0\n"
     ]
    }
   ],
   "source": [
    "# Print results\n",
    "for key, value in results_with_transmission.items():\n",
    "    print(f\"{key}: {value}\")\n"
   ]
  }
 ],
 "metadata": {
  "kernelspec": {
   "display_name": "DCOP",
   "language": "python",
   "name": "python3"
  },
  "language_info": {
   "codemirror_mode": {
    "name": "ipython",
    "version": 3
   },
   "file_extension": ".py",
   "mimetype": "text/x-python",
   "name": "python",
   "nbconvert_exporter": "python",
   "pygments_lexer": "ipython3",
   "version": "3.10.16"
  }
 },
 "nbformat": 4,
 "nbformat_minor": 2
}
